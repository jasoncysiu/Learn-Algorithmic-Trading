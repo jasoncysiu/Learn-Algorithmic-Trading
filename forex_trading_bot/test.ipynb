{
 "cells": [
  {
   "cell_type": "code",
   "execution_count": 3,
   "source": [
    "#import lib \r\n",
    "import requests\r\n",
    "import pandas as pd"
   ],
   "outputs": [],
   "metadata": {}
  }
 ],
 "metadata": {
  "orig_nbformat": 4,
  "language_info": {
   "name": "python",
   "version": "3.9.6",
   "mimetype": "text/x-python",
   "codemirror_mode": {
    "name": "ipython",
    "version": 3
   },
   "pygments_lexer": "ipython3",
   "nbconvert_exporter": "python",
   "file_extension": ".py"
  },
  "kernelspec": {
   "name": "python3",
   "display_name": "Python 3.9.6 64-bit ('venv': venv)"
  },
  "interpreter": {
   "hash": "35325e08d36118397aed80a4e9ebc9d9adf6a0c7dfaf4180f6a17ddcfd3c02b1"
  }
 },
 "nbformat": 4,
 "nbformat_minor": 2
}